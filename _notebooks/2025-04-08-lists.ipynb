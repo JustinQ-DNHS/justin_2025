{
 "cells": [
  {
   "cell_type": "code",
   "execution_count": null,
   "id": "16cbe070",
   "metadata": {},
   "outputs": [],
   "source": [
    "---\n",
    "title: Binary Search\n",
    "description: lol your kahoot was terrible\n",
    "layout: post\n",
    "type: ccc\n",
    "comments: true\n",
    "toc: false\n",
    "permalink: /lists\n",
    "---"
   ]
  },
  {
   "cell_type": "code",
   "execution_count": 2,
   "id": "a3f86163",
   "metadata": {},
   "outputs": [
    {
     "name": "stdout",
     "output_type": "stream",
     "text": [
      "    Name  Score\n",
      "1    Bob     85\n",
      "3  David     88\n"
     ]
    }
   ],
   "source": [
    "%%python\n",
    "import pandas as pd\n",
    "\n",
    "student_data = pd.DataFrame({\n",
    "    'Name': ['Alice', 'Bob', 'Charlie', 'David'],\n",
    "    'Score': [95, 85, 78, 88]\n",
    "})\n",
    "\n",
    "def find_students_in_range(df, min_score, max_score):\n",
    "    return df[(df['Score'] >= min_score) & (df['Score'] <= max_score)]\n",
    "\n",
    "\n",
    "print(find_students_in_range(student_data, 80, 90))"
   ]
  },
  {
   "cell_type": "code",
   "execution_count": 3,
   "id": "4ed1790b",
   "metadata": {},
   "outputs": [
    {
     "name": "stdout",
     "output_type": "stream",
     "text": [
      "      Name  Score Letter\n",
      "0    Alice     95      A\n",
      "1      Bob     85      B\n",
      "2  Charlie     78      C\n",
      "3    David     88      B\n"
     ]
    }
   ],
   "source": [
    "import pandas as pd\n",
    "\n",
    "def add_letter_grades(df):\n",
    "    # Define a function to assign letter grades based on score\n",
    "    def assign_grade(score):\n",
    "        if score >= 90:\n",
    "            return 'A'\n",
    "        elif score >= 80:\n",
    "            return 'B'\n",
    "        elif score >= 70:\n",
    "            return 'C'\n",
    "        elif score >= 60:\n",
    "            return 'D'\n",
    "        else:\n",
    "            return 'F'\n",
    "\n",
    "    # Apply the function to the 'Score' column and create the 'Letter' column\n",
    "    df['Letter'] = df['Score'].apply(assign_grade)\n",
    "    return df\n",
    "\n",
    "student_data = pd.DataFrame({\n",
    "    'Name': ['Alice', 'Bob', 'Charlie', 'David'],\n",
    "    'Score': [95, 85, 78, 88]\n",
    "})\n",
    "\n",
    "# Test the function\n",
    "print(add_letter_grades(student_data))"
   ]
  },
  {
   "cell_type": "code",
   "execution_count": 4,
   "id": "f0639c6c",
   "metadata": {},
   "outputs": [
    {
     "name": "stdout",
     "output_type": "stream",
     "text": [
      "2\n"
     ]
    }
   ],
   "source": [
    "import pandas as pd\n",
    "\n",
    "def find_mode(series):\n",
    "    # Use the .mode() function to find the most common value(s)\n",
    "    return series.mode()[0]  # Return the first mode in case of multiple modes\n",
    "\n",
    "# Test the function with a sample Series\n",
    "print(find_mode(pd.Series([1, 2, 2, 3, 4, 2, 5])))"
   ]
  },
  {
   "cell_type": "code",
   "execution_count": null,
   "id": "985acba0",
   "metadata": {},
   "outputs": [],
   "source": []
  }
 ],
 "metadata": {
  "kernelspec": {
   "display_name": "venv",
   "language": "python",
   "name": "python3"
  },
  "language_info": {
   "codemirror_mode": {
    "name": "ipython",
    "version": 3
   },
   "file_extension": ".py",
   "mimetype": "text/x-python",
   "name": "python",
   "nbconvert_exporter": "python",
   "pygments_lexer": "ipython3",
   "version": "3.12.7"
  }
 },
 "nbformat": 4,
 "nbformat_minor": 5
}
