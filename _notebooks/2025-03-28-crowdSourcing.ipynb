{
 "cells": [
  {
   "cell_type": "code",
   "execution_count": null,
   "metadata": {
    "vscode": {
     "languageId": "yaml"
    }
   },
   "outputs": [],
   "source": [
    "---\n",
    "title: Crowdsourcing Homework\n",
    "description: I turned it in before 12 AM\n",
    "layout: post\n",
    "type: ccc\n",
    "comments: true\n",
    "toc: false\n",
    "permalink: /crowdSourcingHomework\n",
    "---"
   ]
  },
  {
   "cell_type": "markdown",
   "metadata": {},
   "source": [
    "# DNHS Flocker - Homework and Hack Completion\n",
    "\n",
    "## Introduction to crowdsourcing and related concepts:\n",
    "\n",
    "### 1. Crowdsourcing\n",
    "Crowdsourcing is the practice of gathering information, ideas, services, or content from a large group of people, typically via the internet.\n",
    "\n",
    "#### Examples of Crowdsourcing\n",
    "- **Wikipedia**: Volunteers collaboratively create and edit content.\n",
    "- **Waze**: Drivers share real-time traffic data to improve navigation.\n",
    "- **GoFundMe**: People contribute small amounts of money to collectively fund larger projects.\n",
    "\n",
    "### 2. Human Computation\n",
    "Human computation refers to systems that combine human skills with computer processing power to solve complex problems.\n",
    "\n",
    "#### Examples of Human Computation\n",
    "- **reCAPTCHA**: Users help digitize text by verifying distorted words.\n",
    "- **Foldit**: Players solve puzzles to help scientists understand protein folding.\n",
    "- **Amazon Mechanical Turk (MTurk)**: A platform where workers perform small tasks that AI struggles with, such as sentiment analysis or content moderation.\n",
    "\n",
    "---\n",
    "\n",
    "## Popcorn Hacks\n",
    "\n",
    "### Popcorn Hack 1:\n",
    "Find a website that uses **reCAPTCHA**.\n",
    "\n",
    "<a href=\"https://iforgot.apple.com/unlock?language=en_US\">Link?</a>\n",
    "\n",
    "---\n",
    "\n",
    "### Popcorn Hack 2:\n",
    "Find another public dataset and describe its purpose. What do you think are the pros and cons of this dataset?\n",
    "\n",
    "https://minecraftathome.com/projects/\n",
    "Minecraft Dataset...\n",
    "Pros: Other people help using distributed computing. \n",
    "Cons: Relies on other people and specific device abilities\n",
    "\n",
    "---\n",
    "\n",
    "## Regular Hacks\n",
    "\n",
    "### Question 1: Explain the concept of crowdsourcing. Provide 2 examples (that have not been mentioned in this lesson) of how it is commonly used in different fields.\n",
    "**Answer**: Crowdsourcing involves gathering input or ideas from a large group of people, often via the internet, to solve problems or generate ideas.  \n",
    "**Example 1**: In design, **Threadless** crowdsources t-shirt designs, allowing artists to submit and vote on their favorite designs.  \n",
    "**Example 2**: In the business world, **Lego Ideas** invites fans to submit new Lego set concepts, and if a design gets enough votes, it can become an official product.\n",
    "\n",
    "### Question 2: Identify a real-world example of a successful crowdsourcing project. Explain the project, its goals, and the positive outcomes achieved through the collaboration of a large group of people.\n",
    "**Answer**: **Wikipedia** is a successful crowdsourcing project where volunteers contribute to creating and editing an online encyclopedia.  \n",
    "- **Goals**: To provide free and reliable information to everyone across the world.  \n",
    "- **Outcomes**: With the help of millions of volunteers, Wikipedia has become the largest and most used online reference source globally, improving access to knowledge.\n",
    "\n",
    "### Question 3: What are some drawbacks of crowdsourcing and why would certain groups denounce crowdsourcing? Provide specific example(s).\n",
    "**Answer**:  \n",
    "**Drawbacks**:  \n",
    "- Vulnerable to misinformation: Crowdsourcing platforms can be manipulated, leading to false or biased results.\n",
    "- Lack of diversity: Sometimes, crowdsourcing can lack the diversity needed to generate comprehensive results.  \n",
    "**Example**: Crowdsourced platforms like **Kickstarter** have faced backlash for funding ideas that ultimately fail, leaving backers with no reward.\n",
    "\n",
    "### Question 4: Find a public data set that would work with your Pilot City project.\n",
    "**Answer**: A suitable public dataset for a \"Pilot City\" project could be the **City of New York's Open Data** platform. It provides a wide range of datasets related to urban infrastructure, traffic, health, and more. This data can assist in urban planning and decision-making processes for a city development project."
   ]
  }
 ],
 "metadata": {
  "language_info": {
   "name": "python"
  }
 },
 "nbformat": 4,
 "nbformat_minor": 2
}
