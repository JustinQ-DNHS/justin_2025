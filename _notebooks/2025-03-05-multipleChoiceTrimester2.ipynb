{
 "cells": [
  {
   "cell_type": "code",
   "execution_count": null,
   "metadata": {
    "vscode": {
     "languageId": "yaml"
    }
   },
   "outputs": [],
   "source": [
    "---\n",
    "title: Trimester 2 MCQ Review\n",
    "description: A review on the multiple choice exam on My AP Classroom. \n",
    "layout: post\n",
    "type: ccc\n",
    "comments: true\n",
    "toc: false\n",
    "permalink: /multiple_choice\n",
    "---"
   ]
  },
  {
   "cell_type": "markdown",
   "metadata": {},
   "source": [
    "<h3><a href=\"{{site.baseurl}}/binary_review\">Go Back to Main Page</a></h3>"
   ]
  },
  {
   "cell_type": "markdown",
   "metadata": {},
   "source": [
    "## MCQ Review\n",
    "<div class=\"progress_bar\" style=\"display:inline-block; background-color:grey; border-radius:5px; overflow:hidden; width:100%; height:30px; position:relative;\">\n",
    "    <div class=\"progress_bar_completed\" style=\"width:83%; background-color:blue; display:block; height:100%\">\n",
    "        <p style=\"position:absolute; top:50%; left:50%; transform:translate(-50%, -50%); margin:0; font-size:20px;\">56/67</p>\n",
    "    </div>\n",
    "</div>"
   ]
  },
  {
   "cell_type": "markdown",
   "metadata": {},
   "source": [
    "On this MCQ I got a score of 56/67, this is actually worse than I did on the previous MCQ. I struggled learning skills from the recent Big Ideas and ended up with a lower score in general. This needs to be improved on so I'll need to practice these skills more frequently."
   ]
  },
  {
   "cell_type": "markdown",
   "metadata": {
    "vscode": {
     "languageId": "html"
    }
   },
   "source": [
    "## All Incorrect Answers\n",
    "A table that displays all the questions that I got incorrect on the MCQ. This provides an easy to understand and see method of review and will allow me to improve in the future by reviewing weak skills.\n",
    "\n",
    "<table>\n",
    "    <thead><tr>\n",
    "        <td>Queston Number</td>\n",
    "        <td>Question Name</td>\n",
    "        <td>Topic</td>\n",
    "        <td>Skills</td>\n",
    "        <td>Correct Answer</td>\n",
    "    </tr></thead>\n",
    "    <tbody>\n",
    "    <tr>\n",
    "        <td>Q65</td>\n",
    "        <td>Calls to concat and substring</td>\n",
    "        <td>3.4</td>\n",
    "        <td>4.B</td>\n",
    "        <td>I actually believe this was a mistake, this question required two answers but I only put in one. If I paid more attention I could have gotten this one correct</td>\n",
    "    </tr>\n",
    "    <tr>\n",
    "        <td>Q57</td>\n",
    "        <td>Purpose of Internet protocols</td>\n",
    "        <td>4.1</td>\n",
    "        <td>5.A</td>\n",
    "        <td>Internet protocols exist so that there is a standard format for messages on the internet</td>\n",
    "    </tr>\n",
    "    <tr>\n",
    "        <td>Q54</td>\n",
    "        <td>Copy even values from originalList to newList</td>\n",
    "        <td>1.4</td>\n",
    "        <td>5.A</td>\n",
    "        <td>I was adding the number to the front of the list when I should've been adding it to the end by appending</td>\n",
    "    </tr>\n",
    "    <tr>\n",
    "        <td>Q51</td>\n",
    "        <td>Creative Commons</td>\n",
    "        <td>5.5</td>\n",
    "        <td>5.E</td>\n",
    "        <td>Creative Commons allows a creator to choose how their work is used</td>\n",
    "    </tr>\n",
    "    <tr>\n",
    "        <td>Q50</td>\n",
    "        <td>Reasonable times algorithms</td>\n",
    "        <td>3.17</td>\n",
    "        <td>1.D</td>\n",
    "        <td>Reasonable time means less steps than a polynomial function</td>\n",
    "    </tr>\n",
    "    <tr>\n",
    "        <td>Q47</td>\n",
    "        <td>Requirement for binary search</td>\n",
    "        <td>3.11</td>\n",
    "        <td>1.A</td>\n",
    "        <td>Binary search requires for the list to be sorted. Binary search works by breaking the list in half over and over</td>\n",
    "    </tr>\n",
    "    <tr>\n",
    "        <td>Q38</td>\n",
    "        <td>Benefit of IPv6</td>\n",
    "        <td>4.1</td>\n",
    "        <td>5.A</td>\n",
    "        <td>It allows for more connections due having more IP addresses</td>\n",
    "    </tr>\n",
    "    <tr>\n",
    "        <td>Q25</td>\n",
    "        <td>How Internet facilitates large scale commnunication</td>\n",
    "        <td>4.1</td>\n",
    "        <td>5.A</td>\n",
    "        <td>There is no central computer that facilitates the internet</td>\n",
    "    </tr>\n",
    "    <tr>\n",
    "        <td>Q22</td>\n",
    "        <td>Simulater Spinner</td>\n",
    "        <td>3.15</td>\n",
    "        <td>2.B</td>\n",
    "        <td>The incorrect options made up for 1/8 of the spinner, not 1/6</td>\n",
    "    </tr>\n",
    "    <tr>\n",
    "        <td>Q9</td>\n",
    "        <td>Transmit private data securely</td>\n",
    "        <td>5.6</td>\n",
    "        <td>5.E</td>\n",
    "        <td>By using public-key encryption, only the receiver with the correct key can decode the message which provides security</td>\n",
    "    </tr>\n",
    "    <tr>\n",
    "        <td>Q6</td>\n",
    "        <td>Correctness of robot programs</td>\n",
    "        <td>3.9</td>\n",
    "        <td>1.D</td>\n",
    "        <td>Both programs actually work, one works by moving in a diagonal matter, while the other works by moving in a way that paporaches until it meets the correct check</td>\n",
    "    </tr>\n",
    "    </tbody>\n",
    "</table>"
   ]
  }
 ],
 "metadata": {
  "kernelspec": {
   "display_name": "venv",
   "language": "python",
   "name": "python3"
  },
  "language_info": {
   "codemirror_mode": {
    "name": "ipython",
    "version": 3
   },
   "file_extension": ".py",
   "mimetype": "text/x-python",
   "name": "python",
   "nbconvert_exporter": "python",
   "pygments_lexer": "ipython3",
   "version": "3.12.7"
  }
 },
 "nbformat": 4,
 "nbformat_minor": 2
}
