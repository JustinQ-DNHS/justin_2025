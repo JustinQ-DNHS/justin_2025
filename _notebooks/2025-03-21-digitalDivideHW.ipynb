{
 "cells": [
  {
   "cell_type": "code",
   "execution_count": null,
   "metadata": {
    "vscode": {
     "languageId": "yaml"
    }
   },
   "outputs": [],
   "source": [
    "---\n",
    "title: Digital Divide Homework\n",
    "description: I did the notebook portion \n",
    "layout: post\n",
    "type: ccc\n",
    "comments: true\n",
    "toc: false\n",
    "permalink: /digitalDivideHW\n",
    "---"
   ]
  },
  {
   "cell_type": "markdown",
   "metadata": {},
   "source": [
    "# Putting the homework in the bag\n",
    "<img src=\"{{site.baseurl}}/images/codeSnippet1.png\" alt=\"Picture of me doing the code snippet\">"
   ]
  },
  {
   "cell_type": "code",
   "execution_count": null,
   "metadata": {
    "vscode": {
     "languageId": "javascript"
    }
   },
   "outputs": [],
   "source": [
    "%% javascript\n",
    "// Bridge the Divide Challenge Game\n",
    "function bridgeTheDivideGame() {\n",
    "  console.log(\"===============================================\");\n",
    "  console.log(\"🌉 BRIDGE THE DIVIDE: Digital Inclusion Challenge\");\n",
    "  console.log(\"===============================================\");\n",
    "  console.log(\"You are a technology policy advisor tasked with\");\n",
    "  console.log(\"helping communities overcome the digital divide.\");\n",
    "  console.log(\"Analyze each scenario and make the best decision!\\n\");\n",
    "\n",
    "  let score = 0;\n",
    "  const totalQuestions = 5;\n",
    "\n",
    "  // Scenario 1\n",
    "  console.log(\"SCENARIO 1: Rural Connectivity\");\n",
    "  console.log(\"A rural community of 500 families is located 50 miles from\");\n",
    "  console.log(\"the nearest broadband infrastructure. You have $200,000\");\n",
    "  console.log(\"in funding. What's your best approach?\");\n",
    "  console.log(\"A: Lay fiber optic cable to each home\");\n",
    "  console.log(\"B: Set up a wireless tower system\");\n",
    "  console.log(\"C: Provide satellite internet subsidies\");\n",
    "  console.log(\"D: Create a community center with high-speed internet\");\n",
    "\n",
    "  const answer1 = prompt(\"Your choice (A/B/C/D):\").toUpperCase();\n",
    "  if (answer1 === \"B\") {\n",
    "    console.log(\"✓ Correct! A wireless tower system provides the best\");\n",
    "    console.log(\"  coverage for the investment in this rural setting.\");\n",
    "    score++;\n",
    "  } else {\n",
    "    console.log(\"✗ The best answer is B. Fiber would be too expensive,\");\n",
    "    console.log(\"  satellite has high latency issues, and a single center\");\n",
    "    console.log(\"  wouldn't provide sufficient access for all families.\");\n",
    "  }\n",
    "\n",
    "  // Scenario 2\n",
    "  console.log(\"\\nSCENARIO 2: Digital Literacy\");\n",
    "  console.log(\"An urban neighborhood has new affordable internet access,\");\n",
    "  console.log(\"but adoption remains low at 30%. Investigation reveals many\");\n",
    "  console.log(\"residents lack digital skills. What approach would help most?\");\n",
    "  console.log(\"A: Reduce internet prices further\");\n",
    "  console.log(\"B: Distribute free tablets to all residents\");\n",
    "  console.log(\"C: Launch digital literacy workshops at local library\");\n",
    "  console.log(\"D: Create a tech support hotline\");\n",
    "\n",
    "  const answer2 = prompt(\"Your choice (A/B/C/D):\").toUpperCase();\n",
    "  if (answer2 === \"C\") {\n",
    "    console.log(\"✓ Correct! Digital literacy workshops address the\");\n",
    "    console.log(\"  root cause - lack of skills - rather than just\");\n",
    "    console.log(\"  providing more access or support.\");\n",
    "    score++;\n",
    "  } else {\n",
    "    console.log(\"✗ The best answer is C. The primary barrier isn't\");\n",
    "    console.log(\"  cost or device ownership, but skill development.\");\n",
    "    console.log(\"  Workshops provide hands-on learning opportunities.\");\n",
    "  }\n",
    "\n",
    "  // Add more scenarios as needed...\n",
    "\n",
    "  // Final score\n",
    "  console.log(\"\\n===============================================\");\n",
    "  console.log(`FINAL SCORE: ${score}/${totalQuestions}`);\n",
    "  console.log(\"===============================================\");\n",
    "\n",
    "  if (score === totalQuestions) {\n",
    "    console.log(\"🏆 Perfect! You're a digital inclusion expert!\");\n",
    "  } else if (score >= totalQuestions * 0.7) {\n",
    "    console.log(\"🥈 Good job! You have strong understanding of digital divide issues.\");\n",
    "  } else if (score >= totalQuestions * 0.5) {\n",
    "    console.log(\"👍 Decent effort, but review some of the concepts again.\");\n",
    "  } else {\n",
    "    console.log(\"📚 You need more study on digital divide solutions.\");\n",
    "  }\n",
    "}\n",
    "\n",
    "// Run the game with: bridgeTheDivideGame();"
   ]
  },
  {
   "cell_type": "markdown",
   "metadata": {},
   "source": [
    "<img src=\"{{site.baseurl}}/images/codeSnippet2.png\" alt=\"More code snippet from me playing game\">"
   ]
  },
  {
   "cell_type": "code",
   "execution_count": null,
   "metadata": {
    "vscode": {
     "languageId": "javascript"
    }
   },
   "outputs": [],
   "source": [
    "%% javascript\n",
    "// Interactive Digital Divide Explorer\n",
    "function exploreDigitalDivide() {\n",
    "    // Select what data to display\n",
    "    const metric = prompt(\n",
    "      \"Which digital divide metric would you like to explore?\\n\" +\n",
    "      \"1: Income-based internet access\\n\" +\n",
    "      \"2: Urban vs rural access\\n\" +\n",
    "      \"3: Age-based internet usage\\n\" +\n",
    "      \"4: Global connectivity rates\"\n",
    "    );\n",
    "  \n",
    "    // Sample data\n",
    "    const incomeData = {\n",
    "      categories: [\"Lowest 20%\", \"Second 20%\", \"Middle 20%\", \"Fourth 20%\", \"Highest 20%\"],\n",
    "      values: [62, 71, 80, 88, 95]\n",
    "    };\n",
    "  \n",
    "    const locationData = {\n",
    "      categories: [\"Urban\", \"Rural\"],\n",
    "      values: [94, 83]\n",
    "    };\n",
    "  \n",
    "    const ageData = {\n",
    "      categories: [\"18-29\", \"30-49\", \"50-64\", \"65+\"],\n",
    "      values: [97, 93, 88, 61]\n",
    "    };\n",
    "  \n",
    "    const globalData = {\n",
    "      categories: [\"North America\", \"Europe\", \"Asia Pacific\", \"Latin America\", \"Middle East/Africa\"],\n",
    "      values: [90, 87, 54, 68, 40]\n",
    "    };\n",
    "  \n",
    "    // Select dataset based on user choice\n",
    "    let data;\n",
    "    let title;\n",
    "  \n",
    "    switch(metric) {\n",
    "      case \"1\":\n",
    "        data = incomeData;\n",
    "        title = \"Internet Access by Income Level (%)\";\n",
    "        break;\n",
    "      case \"2\":\n",
    "        data = locationData;\n",
    "        title = \"Urban vs Rural Internet Access (%)\";\n",
    "        break;\n",
    "      case \"3\":\n",
    "        data = ageData;\n",
    "        title = \"Internet Usage by Age Group (%)\";\n",
    "        break;\n",
    "      case \"4\":\n",
    "        data = globalData;\n",
    "        title = \"Internet Access by Region (%)\";\n",
    "        break;\n",
    "      default:\n",
    "        alert(\"Invalid selection!\");\n",
    "        return;\n",
    "    }\n",
    "  \n",
    "    // Display the data (in a real app, this would create a chart)\n",
    "    console.log(title);\n",
    "    console.log(\"=\".repeat(title.length));\n",
    "  \n",
    "    const maxValue = Math.max(...data.values);\n",
    "    const maxBarLength = 40;\n",
    "  \n",
    "    for (let i = 0; i < data.categories.length; i++) {\n",
    "      const barLength = Math.round((data.values[i] / maxValue) * maxBarLength);\n",
    "      const bar = \"█\".repeat(barLength);\n",
    "      console.log(`${data.categories[i].padEnd(12)}: ${bar} ${data.values[i]}%`);\n",
    "    }\n",
    "  }\n",
    "  \n",
    "  // Run this function to explore different aspects of the digital divide\n",
    "  // exploreDigitalDivide();"
   ]
  },
  {
   "cell_type": "markdown",
   "metadata": {},
   "source": [
    "# Essay Practice Questions\n",
    "1. Explain how economic factors contribute to the digital divide and propose policy solutions that might address these economic barriers.\n",
    "    Economic factors contribute to the digital divide by making it harder to access digital devices. Such as laptops, iPhones and other various devices. Most mainstream devices are priced at over $1000 and makes it so most people can't afford the luxary of purchasing one. However by creating and spreading knowledge of cheaper options and providing more support for these kinds of devices we can cross the digial divide between the rich and poor.\n",
    "2. Describe three dimensions of the digital divide and explain how each affects access to educational resources. Provide specific examples.\n",
    "    There are many dimensions to the digital divide. One such aspect is the finance, in which people need to pay money in order to obtain a digital device in the first place. This makes it much more difficult for poeple to begin their journey on the internet. When a person who previously has no work with the digial divide manages to cross the finance barrier they hit the digital knowledge barrier. This barrier is caused by a lack of knowledge on how to actually use the device they got and in the end it becomes difficult or even a hindrance to use. Another dimension to the digital divide is something that is difficult people to control which is the internet speeds or bandwidth. In more remote areas on underdeveloped areas there may not be as good of a service for internet due to companies having low interest in investing in these areas due to the low possible income."
   ]
  },
  {
   "cell_type": "markdown",
   "metadata": {},
   "source": [
    "# Multiple Choice Practice\n",
    "1. D\n",
    "2. B\n",
    "3. A\n",
    "4. C\n",
    "5. C"
   ]
  },
  {
   "cell_type": "markdown",
   "metadata": {},
   "source": [
    "# Extra Credit\n",
    "<img src=\"{{site.baseurl}}/images/digitalDivide.png\" alt=\"crappy website\">\n",
    "United States\n",
    "    Internet Penetration: 92%\n",
    "    Mobile Device Access: 96%\n",
    "    Average Internet Speeds: 224.5 Mbps\n",
    "    Digital Literacy: 86%\n",
    "Morocco\n",
    "    Internet Penetration: 74%\n",
    "    Mobile Device Access: 87%\n",
    "    Avergage Internet Speeds: 27.8 Mbps\n",
    "    Digital Literacy: 51%\n",
    "Digital Literacy:\n",
    "    The two have very different average internet speeds, this represents the huge difference in broadband and thus the access divide. In which people do not have the speeds to use certain websites due to the increasing amount of internet needed in order to do a variety of things.\n",
    "\n",
    "A possible solution is introducing government policies in which make companies interested in investing in sectors that might have a low revenue stream. "
   ]
  }
 ],
 "metadata": {
  "language_info": {
   "name": "python"
  }
 },
 "nbformat": 4,
 "nbformat_minor": 2
}
