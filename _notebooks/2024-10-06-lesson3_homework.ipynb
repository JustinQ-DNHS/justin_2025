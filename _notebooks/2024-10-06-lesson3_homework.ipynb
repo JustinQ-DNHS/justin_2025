{
 "cells": [
  {
   "cell_type": "raw",
   "metadata": {
    "vscode": {
     "languageId": "raw"
    }
   },
   "source": [
    "---\n",
    "title: Lesson 3 Homework\n",
    "description: Homework for lesson 3 lessons\n",
    "layout: post\n",
    "type: hacks\n",
    "permalink: /csp/lessson3/homework\n",
    "comments: true\n",
    "toc: true\n",
    "---"
   ]
  },
  {
   "cell_type": "markdown",
   "metadata": {},
   "source": [
    "## Lesson 3.1 Homework\n",
    "### Python Portion"
   ]
  },
  {
   "cell_type": "code",
   "execution_count": 7,
   "metadata": {},
   "outputs": [
    {
     "name": "stdout",
     "output_type": "stream",
     "text": [
      "{'name': 'Justin', 'age': 17, 'favorite_number': 35} ['Justin', 17, 2.54]\n"
     ]
    }
   ],
   "source": [
    "%%python\n",
    "my_name = \"Justin\"\n",
    "my_age = 17\n",
    "not_actually_a_float_variable = 2.54\n",
    "\n",
    "favorite_food = 'Strawberries?'\n",
    "FavoriteHobby = 'Video Gaming!'\n",
    "favoriteColor = 'Blue...'\n",
    "\n",
    "a_dictionary = {\n",
    "    'name': 'Justin',\n",
    "    'age': 17,\n",
    "    'favorite_number': 35\n",
    "}\n",
    "\n",
    "a_list = [my_name, my_age, not_actually_a_float_variable]\n",
    "\n",
    "print(a_dictionary, a_list)"
   ]
  },
  {
   "cell_type": "markdown",
   "metadata": {},
   "source": [
    "### JavaScript Portion"
   ]
  },
  {
   "cell_type": "code",
   "execution_count": 6,
   "metadata": {
    "vscode": {
     "languageId": "javascript"
    }
   },
   "outputs": [
    {
     "data": {
      "application/javascript": "\nlet my_name = \"Justin\"\nlet my_age = 17\nlet not_actually_a_float_variable = 2.54\n\nlet favorite_food = 'Strawberries?'\nlet FavoriteHobby = 'Video Gaming!'\nlet favoriteColor = 'Blue...'\n\nlet a_dictionary = {\n     'name': 'Justin',\n     'age': 17,\n     'favorite_number': 35\n}\n \nlet a_list = [my_name, my_age, not_actually_a_float_variable]\n \nconsole.log(a_dictionary, a_list)\n",
      "text/plain": [
       "<IPython.core.display.Javascript object>"
      ]
     },
     "metadata": {},
     "output_type": "display_data"
    }
   ],
   "source": [
    "%%js\n",
    "\n",
    "let my_name = \"Justin\"\n",
    "let my_age = 17\n",
    "let not_actually_a_float_variable = 2.54\n",
    "\n",
    "let favorite_food = 'Strawberries?'\n",
    "let FavoriteHobby = 'Video Gaming!'\n",
    "let favoriteColor = 'Blue...'\n",
    "\n",
    "let a_dictionary = {\n",
    "     'name': 'Justin',\n",
    "     'age': 17,\n",
    "     'favorite_number': 35\n",
    "}\n",
    " \n",
    "let a_list = [my_name, my_age, not_actually_a_float_variable]\n",
    " \n",
    "console.log(a_dictionary, a_list)"
   ]
  }
 ],
 "metadata": {
  "kernelspec": {
   "display_name": "venv",
   "language": "python",
   "name": "python3"
  },
  "language_info": {
   "codemirror_mode": {
    "name": "ipython",
    "version": 3
   },
   "file_extension": ".py",
   "mimetype": "text/x-python",
   "name": "python",
   "nbconvert_exporter": "python",
   "pygments_lexer": "ipython3",
   "version": "3.12.7"
  }
 },
 "nbformat": 4,
 "nbformat_minor": 2
}
