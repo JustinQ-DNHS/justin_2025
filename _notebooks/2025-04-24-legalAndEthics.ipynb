{
 "cells": [
  {
   "cell_type": "markdown",
   "id": "2a355cbf",
   "metadata": {},
   "source": [
    "---\n",
    "title: Legal And Ethical Concerns Homework\n",
    "description: Homework for the legal and ethical concerns lesson, containing popcorn hacks and homework\n",
    "layout: post\n",
    "toc: true\n",
    "comments: true\n",
    "permalink: /legalEthics\n",
    "---"
   ]
  },
  {
   "cell_type": "markdown",
   "id": "4c1da59f",
   "metadata": {},
   "source": [
    "## Popcorn Hack \\#1\n",
    "Your IP:\n",
    "If you create your own original painting and sell it, the buyer owns the physical painting, but you still own the copyright (IP) unless you transfer it. If you buy something like a custom logo and the creator gives you full rights, then it becomes your IP.\n",
    "\n",
    "Not Your IP:\n",
    "If you buy a movie on DVD, you own the disc, but not the copyright. You can watch it, but you can’t legally copy or sell copies, because the IP belongs to the creators.\n",
    "\n",
    "Key Point:\n",
    "Buying a product doesn’t automatically give you IP rights—you can resell the item you bought (like a used book), but you can’t copy or reproduce it unless you own the IP or have permission."
   ]
  },
  {
   "cell_type": "markdown",
   "id": "7267b9f6",
   "metadata": {},
   "source": [
    "## Popcorn Hack \\#2\n",
    "As a computer science student, the MIT License often suits your repository best.\n",
    "\n",
    "Why?\n",
    "It’s simple, permissive, and allows others to use, modify, and share your code—even in commercial projects—as long as they credit you. This makes it great for learning, collaboration, and building a portfolio without complex legal restrictions."
   ]
  }
 ],
 "metadata": {
  "language_info": {
   "name": "python"
  }
 },
 "nbformat": 4,
 "nbformat_minor": 5
}
