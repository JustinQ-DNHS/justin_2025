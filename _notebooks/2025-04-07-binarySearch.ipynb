{
 "cells": [
  {
   "cell_type": "code",
   "execution_count": null,
   "metadata": {
    "vscode": {
     "languageId": "yaml"
    }
   },
   "outputs": [],
   "source": [
    "---\n",
    "title: Binary Search\n",
    "description: lol your kahoot was terrible\n",
    "layout: post\n",
    "type: ccc\n",
    "comments: true\n",
    "toc: false\n",
    "permalink: /binarySearchHomework\n",
    "---"
   ]
  },
  {
   "cell_type": "code",
   "execution_count": 1,
   "metadata": {},
   "outputs": [
    {
     "name": "stdout",
     "output_type": "stream",
     "text": [
      "4\n"
     ]
    }
   ],
   "source": [
    "%%python\n",
    "def search_rotated_array(nums, target):\n",
    "    left, right = 0, len(nums) - 1\n",
    "    while left <= right:\n",
    "        mid = (left + right) // 2\n",
    "        if nums[mid] == target:\n",
    "            return mid\n",
    "        if nums[left] <= nums[mid]:\n",
    "            if nums[left] <= target < nums[mid]:\n",
    "                right = mid - 1  \n",
    "            else:\n",
    "                left = mid + 1   \n",
    "        else:\n",
    "            if nums[mid] < target <= nums[right]:\n",
    "                left = mid + 1\n",
    "            else:\n",
    "                right = mid - 1  \n",
    "    return -1\n",
    "\n",
    "nums = [4, 5, 6, 7, 0, 1, 2]\n",
    "target = 0\n",
    "print(search_rotated_array(nums, target))"
   ]
  },
  {
   "cell_type": "code",
   "execution_count": 2,
   "metadata": {},
   "outputs": [
    {
     "name": "stdout",
     "output_type": "stream",
     "text": [
      "[3, 4]\n"
     ]
    }
   ],
   "source": [
    "%%python\n",
    "def find_first_and_last(nums, target):\n",
    "    def find_bound(is_first):\n",
    "        left, right = 0, len(nums) - 1\n",
    "        result = -1\n",
    "        while left <= right:\n",
    "            mid = (left + right) // 2\n",
    "            if nums[mid] == target:\n",
    "                result = mid\n",
    "                if is_first:\n",
    "                    right = mid - 1 \n",
    "                else:\n",
    "                    left = mid + 1  \n",
    "            elif nums[mid] < target:\n",
    "                left = mid + 1\n",
    "            else:\n",
    "                right = mid - 1\n",
    "        return result\n",
    "    first = find_bound(True)\n",
    "    last = find_bound(False)\n",
    "    return [first, last]\n",
    "\n",
    "nums = [5, 7, 7, 8, 8, 10]\n",
    "target = 8\n",
    "print(find_first_and_last(nums, target)) \n"
   ]
  },
  {
   "cell_type": "code",
   "execution_count": 3,
   "metadata": {},
   "outputs": [
    {
     "name": "stdout",
     "output_type": "stream",
     "text": [
      "7\n"
     ]
    }
   ],
   "source": [
    "%%python\n",
    "def find_ceiling(nums, target):\n",
    "    left, right = 0, len(nums) - 1\n",
    "    result = -1\n",
    "\n",
    "    while left <= right:\n",
    "        mid = (left + right) // 2\n",
    "        if nums[mid] >= target:\n",
    "            result = nums[mid]  \n",
    "            right = mid - 1     \n",
    "        else:\n",
    "            left = mid + 1\n",
    "    return result\n",
    "\n",
    "nums = [1, 3, 5, 7, 9]\n",
    "target = 6\n",
    "print(find_ceiling(nums, target))"
   ]
  }
 ],
 "metadata": {
  "kernelspec": {
   "display_name": "venv",
   "language": "python",
   "name": "python3"
  },
  "language_info": {
   "codemirror_mode": {
    "name": "ipython",
    "version": 3
   },
   "file_extension": ".py",
   "mimetype": "text/x-python",
   "name": "python",
   "nbconvert_exporter": "python",
   "pygments_lexer": "ipython3",
   "version": "3.12.7"
  }
 },
 "nbformat": 4,
 "nbformat_minor": 2
}
