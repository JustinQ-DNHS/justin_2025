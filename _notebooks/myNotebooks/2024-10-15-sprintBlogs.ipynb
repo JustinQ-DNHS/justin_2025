{
 "cells": [
  {
   "cell_type": "raw",
   "metadata": {
    "vscode": {
     "languageId": "raw"
    }
   },
   "source": [
    "---\n",
    "title: Sprint Blogs\n",
    "description: Blogs for each sprint. I will totally add to this every 4 weeks.\n",
    "layout: post\n",
    "---"
   ]
  },
  {
   "cell_type": "markdown",
   "metadata": {},
   "source": [
    "## Sprint 1:\n",
    "<div style=\"text-align:center\"><table style=\"border:0; display:inline; text-align:center\">\n",
    "    <thead><tr style=\"border:0; border-bottom:4px solid grey; width:50%\"><td style=\"border:0; border-right:4px solid grey;\">Ideal for Website</td><td style=\"border:0; width:50%\">Reality for Website</td></tr></thead>\n",
    "    <tbody><tr style=\"border:0; text-align:left; vertical-align:top\"><td style=\"border:0; border-right:4px solid grey\">\n",
    "        I wanted to keep my index page simple so I planned to add the bare minimum to it until I ahd the time and energy to improve it to the extent that was expected. I had decided that adding the image and the submenu in was more than enough.\n",
    "    </td><td style=\"border:0\">\n",
    "        I got what I wanted with the bare minimum of one picture of some programming language I pulled from another paeg and also a submenu that has no style and looks very simple and off-center for now.\n",
    "    </td></tr></tbody>\n",
    "</table></div>\n",
    "\n",
    "This is a required part of the blog where I talked about what I wanted to do with my website and what I ended up doing.\n",
    "\n",
    "## Sprint 2:\n",
    "For Sprint 2 we had to teach lessons known as Big Idea 3. These are fundamental ideas behind the programming."
   ]
  }
 ],
 "metadata": {
  "language_info": {
   "name": "python"
  }
 },
 "nbformat": 4,
 "nbformat_minor": 2
}
