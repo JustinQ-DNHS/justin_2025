{
 "cells": [
  {
   "cell_type": "markdown",
   "id": "7f40867e",
   "metadata": {},
   "source": [
    "---\n",
    "title: Safe Computing Homework\n",
    "description: Contains the popcorn hacks and homework for the lesson safe computing\n",
    "layout: post\n",
    "toc: true\n",
    "comments: true\n",
    "permalink: /safeComputing\n",
    "---"
   ]
  },
  {
   "cell_type": "markdown",
   "id": "4d3d2148",
   "metadata": {},
   "source": [
    "## Popcorn Hack \\#1\n",
    "I am logged into YouTube, they know my name, my email, the password I use, my location and various other things. This could negatively affect b/c this information could be used to social engineer other important details about me. There is a considerable change that people use the same password for everything and if one leaks like this then it can be assumed that a person can log into my email and therefore access all my other documents that are linked to it."
   ]
  },
  {
   "cell_type": "markdown",
   "id": "ee81088f",
   "metadata": {},
   "source": [
    "## Popcorn Hack \\#2\n",
    "I would first check that the link is actually affiliated with the bank that I am with, if it is I would then contact the bank by phone through a contact I know goes to the bank. I would have them confirm my identity and discuss resetting the password should the case be that I was really hacked"
   ]
  },
  {
   "cell_type": "markdown",
   "id": "15c51f02",
   "metadata": {},
   "source": [
    "## Popcorn Hack \\#3\n",
    "How hackers exploit public Wi-Fi:\n",
    "Hackers can set up fake Wi-Fi networks (called “evil twins”) or intercept data on unsecured networks to steal personal info like passwords or credit card numbers.\n",
    "\n",
    "Precautions to take:\n",
    "- Use a VPN to encrypt your data.\n",
    "- Avoid logging into sensitive accounts (like banking).\n",
    "- Only visit sites with HTTPS.\n",
    "- Turn off auto-connect to networks you don’t trust."
   ]
  }
 ],
 "metadata": {
  "language_info": {
   "name": "python"
  }
 },
 "nbformat": 4,
 "nbformat_minor": 5
}
