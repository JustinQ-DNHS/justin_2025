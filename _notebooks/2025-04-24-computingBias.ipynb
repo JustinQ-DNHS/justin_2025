{
 "cells": [
  {
   "cell_type": "code",
   "execution_count": null,
   "id": "de8f8a0f",
   "metadata": {
    "vscode": {
     "languageId": "yaml"
    }
   },
   "outputs": [],
   "source": [
    "---\n",
    "title: Computing Bias Homework\n",
    "description: Completion of popcorn hacks and homework for the computing bias lesson\n",
    "layout: post\n",
    "toc: true\n",
    "comments: true\n",
    "permalink: /computingBias\n",
    "---"
   ]
  },
  {
   "cell_type": "markdown",
   "id": "c7fabbcf",
   "metadata": {},
   "source": [
    "## Popcorn Hack \\#1\n",
    "One well-known example of a biased computer system is the facial recognition software used by law enforcement agencies. Studies have shown that these systems often have higher error rates when identifying people of color, especially Black individuals, compared to white individuals.\n",
    "\n",
    "Type of Bias:\n",
    "\n",
    "This is an example of Pre-existing Social Bias. The bias stems from inequalities already present in society, which are then reflected in the training data used to build the facial recognition models. If the datasets are not diverse and are skewed toward lighter-skinned individuals, the system learns to perform better on those groups and worse on others.\n",
    "\n",
    "Way to Reduce or Fix the Bias:\n",
    "\n",
    "One way to reduce this bias is to improve the diversity and representativeness of the training data. By including more images of people from different racial, ethnic, and gender backgrounds, the system can be trained to perform more fairly across all demographics. Additionally, regular bias audits and transparency about how these systems are used can help ensure accountability."
   ]
  },
  {
   "cell_type": "markdown",
   "id": "037dc05c",
   "metadata": {},
   "source": [
    "## Popcorn Hack \\#2 \n",
    "Two ways to mitigate the bias in the AI loan approval system:\n",
    "\n",
    "Use Fair and Representative Training Data:\n",
    "The system should be retrained using a dataset that is balanced across gender and other demographic factors. This helps prevent the AI from learning and reinforcing historical biases present in the original data.\n",
    "\n",
    "Implement Bias Detection and Fairness Audits:\n",
    "Regularly test the AI model for biased outcomes using fairness metrics. If bias is detected, adjustments can be made—such as tweaking the algorithm or adjusting decision thresholds—to ensure all applicants are evaluated more equally."
   ]
  },
  {
   "cell_type": "markdown",
   "id": "2bee4a49",
   "metadata": {},
   "source": [
    "## Homework Hack\n",
    "System: Instagram – a social media app many people use daily to share photos and videos, and to discover content through the Explore page and algorithm-driven feed.\n",
    "\n",
    "Identified Bias and Explanation: Instagram’s algorithm tends to promote certain types of content more than others, often favoring conventionally attractive people, specific body types, or lifestyle content that aligns with popular trends. This can reflect a Pre-existing Social Bias, since the algorithm learns from user engagement patterns that are shaped by societal preferences and stereotypes.\n",
    "\n",
    "For example, posts from marginalized communities or those that don't fit mainstream beauty standards may receive less visibility—not because the content is lower quality, but because of how the algorithm prioritizes engagement and past patterns.\n",
    "\n",
    "Way to Reduce or Fix the Bias: Instagram could implement algorithmic fairness adjustments—tweaking the recommendation algorithm to actively promote a more diverse range of creators and content. They could also allow users to customize their feed preferences more transparently, giving people more control over what they see rather than relying solely on automated ranking.\n",
    "\n"
   ]
  }
 ],
 "metadata": {
  "language_info": {
   "name": "python"
  }
 },
 "nbformat": 4,
 "nbformat_minor": 5
}
