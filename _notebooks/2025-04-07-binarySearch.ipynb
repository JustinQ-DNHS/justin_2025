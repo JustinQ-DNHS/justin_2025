{
 "cells": [
  {
   "cell_type": "code",
   "execution_count": null,
   "metadata": {
    "vscode": {
     "languageId": "yaml"
    }
   },
   "outputs": [],
   "source": [
    "---\n",
    "title: Binary Search\n",
    "description: lol your kahoot was terrible\n",
    "layout: post\n",
    "type: ccc\n",
    "comments: true\n",
    "toc: false\n",
    "permalink: /binarySearchHomework\n",
    "---"
   ]
  },
  {
   "cell_type": "code",
   "execution_count": 14,
   "metadata": {},
   "outputs": [
    {
     "name": "stdout",
     "output_type": "stream",
     "text": [
      "[1, 1, 2, 3, 5, 7, 8]\n",
      "3\n"
     ]
    }
   ],
   "source": [
    "def binarySearch(arr, target):\n",
    "    sorted_arr = arr\n",
    "    sorted_arr.sort()\n",
    "    while len(sorted_arr) > 0:\n",
    "        print(sorted_arr)\n",
    "        if (sorted_arr[len(sorted_arr)//2] == target):\n",
    "            return len(sorted_arr)//2\n",
    "        if (sorted_arr[len(sorted_arr)//2] < target):\n",
    "            sorted_arr = sorted_arr.slice((len(sorted_arr)//2))\n",
    "            continue\n",
    "        sorted_arr = sorted_arr.slice(len(sorted_arr)//2, -1)\n",
    "    return -1\n",
    "\n",
    "print(binarySearch([1,5,2,7,8,3,1], 3))"
   ]
  }
 ],
 "metadata": {
  "kernelspec": {
   "display_name": "venv",
   "language": "python",
   "name": "python3"
  },
  "language_info": {
   "codemirror_mode": {
    "name": "ipython",
    "version": 3
   },
   "file_extension": ".py",
   "mimetype": "text/x-python",
   "name": "python",
   "nbconvert_exporter": "python",
   "pygments_lexer": "ipython3",
   "version": "3.12.7"
  }
 },
 "nbformat": 4,
 "nbformat_minor": 2
}
