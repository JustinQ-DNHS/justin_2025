{
 "cells": [
  {
   "cell_type": "code",
   "execution_count": null,
   "metadata": {},
   "outputs": [],
   "source": [
    "---\n",
    "title: Binary Website Unit Review\n",
    "description: A look back on everything I've achieved in the last 24 weeks\n",
    "layout: post\n",
    "type: ccc\n",
    "comments: true\n",
    "toc: false\n",
    "permalink: /binary_review\n",
    "---"
   ]
  },
  {
   "cell_type": "markdown",
   "metadata": {},
   "source": [
    "## TL;DR: AKA a Summary!"
   ]
  },
  {
   "cell_type": "markdown",
   "metadata": {
    "vscode": {
     "languageId": "html"
    }
   },
   "source": [
    "<div>\n",
    "<table>\n",
    "    <tr>\n",
    "        <td><h4>5 Things I Did</h4></td>\n",
    "        <td>5 points possible</td>\n",
    "        <td>\n",
    "            <ul>\n",
    "                <li>Advancing knowledge of Backend interaction</li>\n",
    "                <li>Created an API that interacts with two models for Binary Overflow</li>\n",
    "                <li>Created four models for Binary Overflow, they interact using relationships</li>\n",
    "                <li>Stored image data</li>\n",
    "                <li>User stories and burndown lists</li>\n",
    "            </ul>\n",
    "        </td>\n",
    "        <td>4.9/5</td>\n",
    "    </tr>\n",
    "    <tr>\n",
    "        <td><h4>CPT Requirements & N@tM Feedback</h4></td>\n",
    "        <td>2 points possible</td>\n",
    "        <td><a href=\"{{site.baseurl}}/cpt_NatTheMuseum\">N@tM and CPT Requirements</a></td>\n",
    "        <td>1.8/2</td>\n",
    "    </tr>\n",
    "    <tr>\n",
    "        <td><h4>Project Feature Blog</h4></td>\n",
    "        <td>1 point possible</td>\n",
    "        <td><a href=\"{{site.baseurl}}/projectFeatureBlog\">Blog</a></td>\n",
    "        <td>0.9/1</td>\n",
    "    </tr>\n",
    "    <tr>\n",
    "        <td><h4>MCQ</h4></td>\n",
    "        <td>1 point possible</td>\n",
    "        <td><a href=\"{{site.baseurl}}/multiple_choice\">MCQ</a></td>\n",
    "        <td>0.8/1</td>\n",
    "    </tr>\n",
    "    <tr>\n",
    "        <td><h4>Extra Point</h4></td>\n",
    "        <td>1 point possible</td>\n",
    "        <td></td>\n",
    "        <td>0.7/1</td>\n",
    "    </tr>\n",
    "    <tr>\n",
    "        <td colspan=\"3\" style=\"text-align:right\">Total</td>\n",
    "        <td>7.3</td>\n",
    "    </tr>\n",
    "</table>"
   ]
  }
 ],
 "metadata": {
  "kernelspec": {
   "display_name": "venv",
   "language": "python",
   "name": "python3"
  },
  "language_info": {
   "codemirror_mode": {
    "name": "ipython",
    "version": 3
   },
   "file_extension": ".py",
   "mimetype": "text/x-python",
   "name": "python",
   "nbconvert_exporter": "python",
   "pygments_lexer": "ipython3",
   "version": "3.12.7"
  }
 },
 "nbformat": 4,
 "nbformat_minor": 2
}
