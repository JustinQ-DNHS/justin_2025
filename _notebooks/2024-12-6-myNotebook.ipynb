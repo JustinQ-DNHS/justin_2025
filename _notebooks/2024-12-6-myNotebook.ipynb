{
 "cells": [
  {
   "cell_type": "code",
   "execution_count": null,
   "metadata": {
    "vscode": {
     "languageId": "yaml"
    }
   },
   "outputs": [],
   "source": [
    "---\n",
    "title: My Notebook\n",
    "description: Homework for lesson 3 lessons\n",
    "layout: post\n",
    "type: ccc\n",
    "comments: true\n",
    "toc: false\n",
    "---"
   ]
  },
  {
   "cell_type": "markdown",
   "metadata": {},
   "source": [
    "# Introduction\n",
    "Welcome to the beginning of this notebook's journey! I started this notebook because Mr. Mortensen requires it in order to get points, and I sure do love my points. I'll likely start ranting and explaining code in here to organize me thoughts when I'm distracted to get back on track\n",
    "\n",
    "# Goals\n",
    "- Have the website be up!\n",
    "\n",
    "# Subgoals\n",
    "- Create a minimal Flask server\n",
    "- Explore the PythonFlask process\n",
    "- Access data from our Flask server using Python\n",
    "- Access date from our Flask server using JavaScript\n",
    "- Learn how to stop the PythonFlask process gracefully\n",
    "\n",
    "# Sprint 1 (Trimester 2)\n",
    "This will be covering Sprint 1 for the beginning of trimester 2, this time is from the beginning of December to the beginning of the New Year.\n",
    "\n",
    "## December 6, Friday, 2024\n",
    "BROOOOOOOO WHY IS WESTON THROWING SO HARD? SHRIYA TOO......."
   ]
  }
 ],
 "metadata": {
  "language_info": {
   "name": "python"
  }
 },
 "nbformat": 4,
 "nbformat_minor": 2
}
