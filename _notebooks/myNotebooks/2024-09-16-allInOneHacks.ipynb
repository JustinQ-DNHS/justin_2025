{
 "cells": [
  {
   "cell_type": "raw",
   "metadata": {
    "vscode": {
     "languageId": "raw"
    }
   },
   "source": [
    "---\n",
    "title: All In One Notebook Hacks!\n",
    "description: I was too lazy to make 3 notebooks so I decided to make just one notebook that covered the three hacks\n",
    "type: hacks\n",
    "layout: post\n",
    "comments: true\n",
    "---"
   ]
  },
  {
   "cell_type": "markdown",
   "metadata": {},
   "source": [
    "## Ideal\n",
    "I wanted to keep my index page simple so I planned to add the bare minimum to it until I ahd the time and energy to improve it to the extent that was expected. I had decided that adding the image and the submenu in was more than enough\n",
    "\n",
    "## End Result\n",
    "I got what I wanted with the bare minimum of one picture of some programming language I pulled from another paeg and also a submenu that has no style and looks very simple and off-center for now.\n",
    "\n",
    "## Javascript Cell\n",
    "There's a preload error with the font that I don't want to fix so go to <a href=\"{{site.baseurl}}/2024/09/03/frontendDev.html\">this page</a> to see it working in console."
   ]
  },
  {
   "cell_type": "code",
   "execution_count": 2,
   "metadata": {
    "vscode": {
     "languageId": "javascript"
    }
   },
   "outputs": [
    {
     "data": {
      "application/javascript": "let person = {\n    name: \"Justin\",\n    gender: \"Male\",\n    programmingExperience: \"1 Year\",\n    age: 17,\n    currentClasses: [\"APStatistics\", \"APCalculusBC\", \"Civics\", \"Digital Media Production\", \"APComputer Science Principles\",],\n    interests: [\"Programming\", \"Piano\", \"Guitar\", \"Board Games\", \"Video Games\",],\n}\n\nconsole.log(person)\n\nperson.interests.push(\"arrayManipulation\")\nconsole.log(\"\\n\")\nconsole.log(person)\nconsole.log(typeof(person) + \"\\n\" + typeof(person.age) + \"\\n\" + typeof(person.name))\n",
      "text/plain": [
       "<IPython.core.display.Javascript object>"
      ]
     },
     "metadata": {},
     "output_type": "display_data"
    }
   ],
   "source": [
    "%%js bash\n",
    "let person = {\n",
    "    name: \"Justin\",\n",
    "    gender: \"Male\",\n",
    "    programmingExperience: \"1 Year\",\n",
    "    age: 17,\n",
    "    currentClasses: [\"APStatistics\", \"APCalculusBC\", \"Civics\", \"Digital Media Production\", \"APComputer Science Principles\",],\n",
    "    interests: [\"Programming\", \"Piano\", \"Guitar\", \"Board Games\", \"Video Games\",],\n",
    "}\n",
    "\n",
    "console.log(person)\n",
    "\n",
    "person.interests.push(\"arrayManipulation\")\n",
    "console.log(\"\\n\")\n",
    "console.log(person)\n",
    "console.log(typeof(person) + \"\\n\" + typeof(person.age) + \"\\n\" + typeof(person.name))"
   ]
  }
 ],
 "metadata": {
  "kernelspec": {
   "display_name": "venv",
   "language": "python",
   "name": "python3"
  },
  "language_info": {
   "codemirror_mode": {
    "name": "ipython",
    "version": 3
   },
   "file_extension": ".py",
   "mimetype": "text/x-python",
   "name": "python",
   "nbconvert_exporter": "python",
   "pygments_lexer": "ipython3",
   "version": "3.12.5"
  }
 },
 "nbformat": 4,
 "nbformat_minor": 2
}
