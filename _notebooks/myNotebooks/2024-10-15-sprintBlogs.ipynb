{
 "cells": [
  {
   "cell_type": "raw",
   "metadata": {
    "vscode": {
     "languageId": "raw"
    }
   },
   "source": [
    "---\n",
    "title: Sprint Blogs\n",
    "description: Blogs for each sprint. I will totally add to this every 4 weeks.\n",
    "layout: post\n",
    "permalink: /csp/sprintblog\n",
    "---"
   ]
  },
  {
   "cell_type": "markdown",
   "metadata": {},
   "source": [
    "## Sprint 1:\n",
    "<div style=\"text-align:center\"><table style=\"border:0; display:inline; text-align:center\">\n",
    "    <thead><tr style=\"border:0; border-bottom:4px solid grey; width:50%\"><td style=\"border:0; border-right:4px solid grey;\">Ideal for Website</td><td style=\"border:0; width:50%\">Reality for Website</td></tr></thead>\n",
    "    <tbody><tr style=\"border:0; text-align:left; vertical-align:top\"><td style=\"border:0; border-right:4px solid grey\">\n",
    "        I wanted to keep my index page simple so I planned to add the bare minimum to it until I ahd the time and energy to improve it to the extent that was expected. I had decided that adding the image and the submenu in was more than enough.\n",
    "    </td><td style=\"border:0\">\n",
    "        I got what I wanted with the bare minimum of one picture of some programming language I pulled from another paeg and also a submenu that has no style and looks very simple and off-center for now.\n",
    "    </td></tr></tbody>\n",
    "</table></div>\n",
    "\n",
    "This is a required part of the blog where I talked about what I wanted to do with my website and what I ended up doing.\n",
    "\n",
    "## Sprint 2:\n",
    "For Sprint 2 we had to teach lessons known as Big Idea 3. These are fundamental ideas behind the programming. This was very impactful as it taught me the core lessons behind programming and creating website front and backends. With this knowledge I'll be prepared for Collegeboard and future problem based learning. \n",
    "\n",
    "With my new understanding of how lists work and the proper way to use dictionaries/objects, my abilities to handle both simple and complex problems now have many more possible solutions. Some exanmples of this are when we had to work in order to create a simple calculator as homework for Big Idea 3.3 or when we had to create a vowel, letter, number and space counter for homework for Big Idea 3.4. Something I remember vividly is when working on our lessons writing pseudocode and hacks for students to do, unfortunately I did not have the chance to go through it. I also vividly remember a lot of students having their questions answered and a very detailed explanation of how arrays work by Mr. Mortenesen. I learned a lot of critical ideas for both Python and JavaScript allowing me to use more advanced ideas in my code, such as lambda functions. Another such item was learning the importance of a json module in Python to handle dictionaries and use them in a object format. Something I managed to learn/do due to this lesson was create a simple calculator using Python and the Tkinter module, whcih is generally used for creating windows. I managed to apply lessons I learnt in Big Idea 3.3 and ideas in 3.4 to both add and subtract numbers but also convert a string to a number. This had to be done since the text was being displayed in the calculator text and therefore would have to be a string to be seen with symbols such sa multiplication and subtraction.\n",
    "\n",
    "<a href=\"{{site.baseurl}}/images/simple_calculator.py\" download>Python Calculator Download</a>\n",
    "\n",
    "## Examples of the more complex homework assignments:"
   ]
  },
  {
   "cell_type": "code",
   "execution_count": 36,
   "metadata": {},
   "outputs": [
    {
     "name": "stdout",
     "output_type": "stream",
     "text": [
      "Total Letters: 4\n",
      "Total Numbers: 1\n",
      "Total Vowels: 2\n",
      "Total Spaces: 2\n"
     ]
    }
   ],
   "source": [
    "%%python\n",
    "def character_counter(string):\n",
    "    total_letters = len(string)\n",
    "    total_numbers = 0\n",
    "    total_vowels = 0\n",
    "    total_spaces = 0\n",
    "    for i in range(total_letters):\n",
    "        if int(string[i].isnumeric()):\n",
    "                total_numbers += 1 \n",
    "        if string[i].lower() in ['a', 'i', 'o', 'u', 'e']:\n",
    "            total_vowels += 1\n",
    "        if string[i] == ' ':\n",
    "            total_spaces += 1\n",
    "    total_letters = total_letters - (total_numbers + total_spaces)\n",
    "    print(f'Total Letters: {total_letters}\\nTotal Numbers: {total_numbers}\\nTotal Vowels: {total_vowels}\\nTotal Spaces: {total_spaces}')    \n",
    "\n",
    "character_counter(\"I 1 num\")"
   ]
  },
  {
   "cell_type": "markdown",
   "metadata": {},
   "source": [
    "This was a simple string counter which counted the number of letters, numbers, vowels, and spaces in a string that was inputted into it. This was a fun and challenging project which challenged your ability to manipulate strings and understand what they mean."
   ]
  }
 ],
 "metadata": {
  "kernelspec": {
   "display_name": "venv",
   "language": "python",
   "name": "python3"
  },
  "language_info": {
   "codemirror_mode": {
    "name": "ipython",
    "version": 3
   },
   "file_extension": ".py",
   "mimetype": "text/x-python",
   "name": "python",
   "nbconvert_exporter": "python",
   "pygments_lexer": "ipython3",
   "version": "3.12.7"
  }
 },
 "nbformat": 4,
 "nbformat_minor": 2
}
